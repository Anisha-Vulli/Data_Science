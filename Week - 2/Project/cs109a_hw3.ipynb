{
 "cells": [
  {
   "cell_type": "markdown",
   "metadata": {},
   "source": [
    "# CS 109A/STAT 121A/AC 209A/CSCI E-109A: Homework 3\n",
    "# Multiple Linear Regression, Subset Selection, Cross Validation\n",
    "\n",
    "**Harvard University**<br/>\n",
    "**Fall 2017**<br/>\n",
    "**Instructors**: Pavlos Protopapas, Kevin Rader, Rahul Dave, Margo Levine\n",
    "\n",
    "---\n",
    "\n",
    "### INSTRUCTIONS\n",
    "\n",
    "- To submit your assignment follow the instructions given in canvas.\n",
    "- Restart the kernel and run the whole notebook again before you submit. \n",
    "- Do not include your name(s) in the notebook if you are submitting as a group. \n",
    "- If you submit individually and you have worked with someone, please include the name of your [one] partner below. \n",
    "\n",
    "---"
   ]
  },
  {
   "cell_type": "markdown",
   "metadata": {
    "collapsed": true
   },
   "source": [
    "Your partner's name (if you submit separately):\n",
    "\n",
    "Enrollment Status (109A, 121A, 209A, or E109A):"
   ]
  },
  {
   "cell_type": "markdown",
   "metadata": {},
   "source": [
    "Import libraries:"
   ]
  },
  {
   "cell_type": "code",
   "execution_count": 3,
   "metadata": {},
   "outputs": [],
   "source": [
    "import numpy as np\n",
    "import pandas as pd\n",
    "import matplotlib\n",
    "import matplotlib.pyplot as plt\n",
    "from sklearn.metrics import r2_score\n",
    "import statsmodels.api as sm\n",
    "from statsmodels.api import OLS\n",
    "from sklearn.preprocessing import PolynomialFeatures\n",
    "from sklearn.linear_model import Ridge\n",
    "from sklearn.linear_model import Lasso\n",
    "from sklearn.linear_model import RidgeCV\n",
    "from sklearn.linear_model import LassoCV\n",
    "%matplotlib inline"
   ]
  },
  {
   "cell_type": "markdown",
   "metadata": {},
   "source": [
    "# Forecasting Bike Sharing Usage\n",
    "\n",
    "In this homework, we will focus on multiple linear regression and will explore techniques for subset selection. The specific task is to build a regression model for a bike share system that can predict the total number of bike rentals in a given day, based on attributes about the day. Such a demand forecasting model would be useful in planning the number of bikes that need to be available in the system on any given day, and also in monitoring traffic in the city. The data for this problem was collected from the Capital Bikeshare program in Washington D.C. over two years.   \n",
    "\n",
    "The data set is provided in the files `Bikeshare_train.csv` and `Bikeshare_test.csv`, as separate training and test sets. Each row in these files contains 10 attributes describing a day and its weather:\n",
    "- season (1 = spring, 2 = summer, 3 = fall, 4 = winter)\n",
    "- month (1 through 12, with 1 denoting Jan)\n",
    "- holiday (1 = the day is a holiday, 0 = otherwise)\n",
    "- day_of_week (0 through 6, with 0 denoting Sunday)\n",
    "- workingday (1 = the day is neither a holiday or weekend, 0 = otherwise)\n",
    "- weather \n",
    "    - 1: Clear, Few clouds, Partly cloudy, Partly cloudy\n",
    "    - 2: Mist + Cloudy, Mist + Broken clouds, Mist + Few clouds, Mist\n",
    "    - 3: Light Snow, Light Rain + Thunderstorm + Scattered clouds, Light Rain + Scattered clouds\n",
    "    - 4: Heavy Rain + Ice Pallets + Thunderstorm + Mist, Snow + Fog \n",
    "- temp (temperature in Celsius)\n",
    "- atemp (apparent temperature, or relative outdoor temperature, in Celsius)\n",
    "- humidity (relative humidity)\n",
    "- windspeed (wind speed)\n",
    "\n",
    "and the last column 'count' contains the response variable, i.e. total number of bike rentals on the day.\n"
   ]
  },
  {
   "cell_type": "markdown",
   "metadata": {},
   "source": [
    "## Part (a): Data Exploration & Preprocessing\n",
    "\n",
    "As a first step, identify important characteristics of the data using suitable visualizations when necessary. Some of the questions you may ask include (but are not limited to):\n",
    "\n",
    "- How does the number of bike rentals vary between weekdays and weekends? \n",
    "- How about bike rentals on holidays?\n",
    "- What effect does the season have on the bike rentals on a given day?\n",
    "- Is the number of bike rentals lower than average when there is rain or snow?\n",
    "- How does temperature effect bike rentals?\n",
    "- Do any of the numeric attributes have a clear non-linear dependence with number of the bike rentals?\n",
    "\n"
   ]
  },
  {
   "cell_type": "code",
   "execution_count": 59,
   "metadata": {},
   "outputs": [],
   "source": [
    "#your code here\n",
    "train = pd.read_csv(\"Bikeshare_train.csv\", index_col=0)"
   ]
  },
  {
   "cell_type": "code",
   "execution_count": 5,
   "metadata": {},
   "outputs": [
    {
     "data": {
      "text/html": [
       "<div>\n",
       "<style scoped>\n",
       "    .dataframe tbody tr th:only-of-type {\n",
       "        vertical-align: middle;\n",
       "    }\n",
       "\n",
       "    .dataframe tbody tr th {\n",
       "        vertical-align: top;\n",
       "    }\n",
       "\n",
       "    .dataframe thead th {\n",
       "        text-align: right;\n",
       "    }\n",
       "</style>\n",
       "<table border=\"1\" class=\"dataframe\">\n",
       "  <thead>\n",
       "    <tr style=\"text-align: right;\">\n",
       "      <th></th>\n",
       "      <th>season</th>\n",
       "      <th>month</th>\n",
       "      <th>holiday</th>\n",
       "      <th>day_of_week</th>\n",
       "      <th>workingday</th>\n",
       "      <th>weather</th>\n",
       "      <th>temp</th>\n",
       "      <th>atemp</th>\n",
       "      <th>humidity</th>\n",
       "      <th>windspeed</th>\n",
       "      <th>count</th>\n",
       "    </tr>\n",
       "  </thead>\n",
       "  <tbody>\n",
       "    <tr>\n",
       "      <th>0</th>\n",
       "      <td>2.0</td>\n",
       "      <td>5.0</td>\n",
       "      <td>0.0</td>\n",
       "      <td>2.0</td>\n",
       "      <td>1.0</td>\n",
       "      <td>2.0</td>\n",
       "      <td>24.0</td>\n",
       "      <td>26.0</td>\n",
       "      <td>76.5833</td>\n",
       "      <td>0.118167</td>\n",
       "      <td>6073.0</td>\n",
       "    </tr>\n",
       "    <tr>\n",
       "      <th>1</th>\n",
       "      <td>4.0</td>\n",
       "      <td>12.0</td>\n",
       "      <td>0.0</td>\n",
       "      <td>2.0</td>\n",
       "      <td>1.0</td>\n",
       "      <td>1.0</td>\n",
       "      <td>15.0</td>\n",
       "      <td>19.0</td>\n",
       "      <td>73.3750</td>\n",
       "      <td>0.174129</td>\n",
       "      <td>6606.0</td>\n",
       "    </tr>\n",
       "    <tr>\n",
       "      <th>2</th>\n",
       "      <td>2.0</td>\n",
       "      <td>6.0</td>\n",
       "      <td>0.0</td>\n",
       "      <td>4.0</td>\n",
       "      <td>1.0</td>\n",
       "      <td>1.0</td>\n",
       "      <td>26.0</td>\n",
       "      <td>28.0</td>\n",
       "      <td>56.9583</td>\n",
       "      <td>0.253733</td>\n",
       "      <td>7363.0</td>\n",
       "    </tr>\n",
       "    <tr>\n",
       "      <th>3</th>\n",
       "      <td>4.0</td>\n",
       "      <td>12.0</td>\n",
       "      <td>0.0</td>\n",
       "      <td>0.0</td>\n",
       "      <td>0.0</td>\n",
       "      <td>1.0</td>\n",
       "      <td>0.0</td>\n",
       "      <td>4.0</td>\n",
       "      <td>58.6250</td>\n",
       "      <td>0.169779</td>\n",
       "      <td>2431.0</td>\n",
       "    </tr>\n",
       "    <tr>\n",
       "      <th>4</th>\n",
       "      <td>3.0</td>\n",
       "      <td>9.0</td>\n",
       "      <td>0.0</td>\n",
       "      <td>3.0</td>\n",
       "      <td>1.0</td>\n",
       "      <td>3.0</td>\n",
       "      <td>23.0</td>\n",
       "      <td>23.0</td>\n",
       "      <td>91.7083</td>\n",
       "      <td>0.097021</td>\n",
       "      <td>1996.0</td>\n",
       "    </tr>\n",
       "  </tbody>\n",
       "</table>\n",
       "</div>"
      ],
      "text/plain": [
       "   season  month  holiday  day_of_week  workingday  weather  temp  atemp  \\\n",
       "0     2.0    5.0      0.0          2.0         1.0      2.0  24.0   26.0   \n",
       "1     4.0   12.0      0.0          2.0         1.0      1.0  15.0   19.0   \n",
       "2     2.0    6.0      0.0          4.0         1.0      1.0  26.0   28.0   \n",
       "3     4.0   12.0      0.0          0.0         0.0      1.0   0.0    4.0   \n",
       "4     3.0    9.0      0.0          3.0         1.0      3.0  23.0   23.0   \n",
       "\n",
       "   humidity  windspeed   count  \n",
       "0   76.5833   0.118167  6073.0  \n",
       "1   73.3750   0.174129  6606.0  \n",
       "2   56.9583   0.253733  7363.0  \n",
       "3   58.6250   0.169779  2431.0  \n",
       "4   91.7083   0.097021  1996.0  "
      ]
     },
     "execution_count": 5,
     "metadata": {},
     "output_type": "execute_result"
    }
   ],
   "source": [
    "train.head()"
   ]
  },
  {
   "cell_type": "code",
   "execution_count": 60,
   "metadata": {},
   "outputs": [],
   "source": [
    "test = pd.read_csv(\"Bikeshare_test.csv\", index_col=0)"
   ]
  },
  {
   "cell_type": "code",
   "execution_count": 7,
   "metadata": {
    "scrolled": true
   },
   "outputs": [
    {
     "data": {
      "text/html": [
       "<div>\n",
       "<style scoped>\n",
       "    .dataframe tbody tr th:only-of-type {\n",
       "        vertical-align: middle;\n",
       "    }\n",
       "\n",
       "    .dataframe tbody tr th {\n",
       "        vertical-align: top;\n",
       "    }\n",
       "\n",
       "    .dataframe thead th {\n",
       "        text-align: right;\n",
       "    }\n",
       "</style>\n",
       "<table border=\"1\" class=\"dataframe\">\n",
       "  <thead>\n",
       "    <tr style=\"text-align: right;\">\n",
       "      <th></th>\n",
       "      <th>season</th>\n",
       "      <th>month</th>\n",
       "      <th>holiday</th>\n",
       "      <th>day_of_week</th>\n",
       "      <th>workingday</th>\n",
       "      <th>weather</th>\n",
       "      <th>temp</th>\n",
       "      <th>atemp</th>\n",
       "      <th>humidity</th>\n",
       "      <th>windspeed</th>\n",
       "      <th>count</th>\n",
       "    </tr>\n",
       "  </thead>\n",
       "  <tbody>\n",
       "    <tr>\n",
       "      <th>0</th>\n",
       "      <td>1.0</td>\n",
       "      <td>2.0</td>\n",
       "      <td>0.0</td>\n",
       "      <td>4.0</td>\n",
       "      <td>1.0</td>\n",
       "      <td>1.0</td>\n",
       "      <td>2.0</td>\n",
       "      <td>6.0</td>\n",
       "      <td>56.2083</td>\n",
       "      <td>0.194037</td>\n",
       "      <td>3830.0</td>\n",
       "    </tr>\n",
       "    <tr>\n",
       "      <th>1</th>\n",
       "      <td>1.0</td>\n",
       "      <td>12.0</td>\n",
       "      <td>0.0</td>\n",
       "      <td>4.0</td>\n",
       "      <td>1.0</td>\n",
       "      <td>2.0</td>\n",
       "      <td>1.0</td>\n",
       "      <td>3.0</td>\n",
       "      <td>65.2917</td>\n",
       "      <td>0.350133</td>\n",
       "      <td>2114.0</td>\n",
       "    </tr>\n",
       "    <tr>\n",
       "      <th>2</th>\n",
       "      <td>2.0</td>\n",
       "      <td>6.0</td>\n",
       "      <td>0.0</td>\n",
       "      <td>4.0</td>\n",
       "      <td>1.0</td>\n",
       "      <td>2.0</td>\n",
       "      <td>36.0</td>\n",
       "      <td>37.0</td>\n",
       "      <td>56.8333</td>\n",
       "      <td>0.149883</td>\n",
       "      <td>915.0</td>\n",
       "    </tr>\n",
       "    <tr>\n",
       "      <th>3</th>\n",
       "      <td>1.0</td>\n",
       "      <td>2.0</td>\n",
       "      <td>0.0</td>\n",
       "      <td>1.0</td>\n",
       "      <td>1.0</td>\n",
       "      <td>1.0</td>\n",
       "      <td>8.0</td>\n",
       "      <td>12.0</td>\n",
       "      <td>49.0833</td>\n",
       "      <td>0.268033</td>\n",
       "      <td>4322.0</td>\n",
       "    </tr>\n",
       "    <tr>\n",
       "      <th>4</th>\n",
       "      <td>2.0</td>\n",
       "      <td>5.0</td>\n",
       "      <td>0.0</td>\n",
       "      <td>0.0</td>\n",
       "      <td>0.0</td>\n",
       "      <td>1.0</td>\n",
       "      <td>28.0</td>\n",
       "      <td>29.0</td>\n",
       "      <td>69.7083</td>\n",
       "      <td>0.215171</td>\n",
       "      <td>6591.0</td>\n",
       "    </tr>\n",
       "  </tbody>\n",
       "</table>\n",
       "</div>"
      ],
      "text/plain": [
       "   season  month  holiday  day_of_week  workingday  weather  temp  atemp  \\\n",
       "0     1.0    2.0      0.0          4.0         1.0      1.0   2.0    6.0   \n",
       "1     1.0   12.0      0.0          4.0         1.0      2.0   1.0    3.0   \n",
       "2     2.0    6.0      0.0          4.0         1.0      2.0  36.0   37.0   \n",
       "3     1.0    2.0      0.0          1.0         1.0      1.0   8.0   12.0   \n",
       "4     2.0    5.0      0.0          0.0         0.0      1.0  28.0   29.0   \n",
       "\n",
       "   humidity  windspeed   count  \n",
       "0   56.2083   0.194037  3830.0  \n",
       "1   65.2917   0.350133  2114.0  \n",
       "2   56.8333   0.149883   915.0  \n",
       "3   49.0833   0.268033  4322.0  \n",
       "4   69.7083   0.215171  6591.0  "
      ]
     },
     "execution_count": 7,
     "metadata": {},
     "output_type": "execute_result"
    }
   ],
   "source": [
    "test.head()"
   ]
  },
  {
   "cell_type": "code",
   "execution_count": 8,
   "metadata": {},
   "outputs": [
    {
     "data": {
      "text/plain": [
       "(array([111.,  45.,  41.,  41.,  93.]),\n",
       " array([0. , 1.2, 2.4, 3.6, 4.8, 6. ]),\n",
       " <a list of 5 Patch objects>)"
      ]
     },
     "execution_count": 8,
     "metadata": {},
     "output_type": "execute_result"
    },
    {
     "data": {
      "image/png": "[encoded data removed]",
      "text/plain": [
       "<Figure size 432x288 with 1 Axes>"
      ]
     },
     "metadata": {
      "needs_background": "light"
     },
     "output_type": "display_data"
    }
   ],
   "source": [
    "plt.hist(train['day_of_week'], 5, facecolor='blue', alpha=0.5)"
   ]
  },
  {
   "cell_type": "code",
   "execution_count": 65,
   "metadata": {},
   "outputs": [],
   "source": [
    "train.rename(index=str, columns={\"count\": \"rentals\"}, inplace=True) \n",
    "test.rename(index=str, columns={\"count\": \"rentals\"}, inplace=True)"
   ]
  },
  {
   "cell_type": "code",
   "execution_count": 66,
   "metadata": {},
   "outputs": [
    {
     "data": {
      "text/html": [
       "<div>\n",
       "<style scoped>\n",
       "    .dataframe tbody tr th:only-of-type {\n",
       "        vertical-align: middle;\n",
       "    }\n",
       "\n",
       "    .dataframe tbody tr th {\n",
       "        vertical-align: top;\n",
       "    }\n",
       "\n",
       "    .dataframe thead th {\n",
       "        text-align: right;\n",
       "    }\n",
       "</style>\n",
       "<table border=\"1\" class=\"dataframe\">\n",
       "  <thead>\n",
       "    <tr style=\"text-align: right;\">\n",
       "      <th></th>\n",
       "      <th>season</th>\n",
       "      <th>month</th>\n",
       "      <th>holiday</th>\n",
       "      <th>day_of_week</th>\n",
       "      <th>workingday</th>\n",
       "      <th>weather</th>\n",
       "      <th>temp</th>\n",
       "      <th>atemp</th>\n",
       "      <th>humidity</th>\n",
       "      <th>windspeed</th>\n",
       "      <th>rentals</th>\n",
       "    </tr>\n",
       "  </thead>\n",
       "  <tbody>\n",
       "    <tr>\n",
       "      <th>0</th>\n",
       "      <td>2.0</td>\n",
       "      <td>5.0</td>\n",
       "      <td>0.0</td>\n",
       "      <td>2.0</td>\n",
       "      <td>1.0</td>\n",
       "      <td>2.0</td>\n",
       "      <td>24.0</td>\n",
       "      <td>26.0</td>\n",
       "      <td>76.5833</td>\n",
       "      <td>0.118167</td>\n",
       "      <td>6073.0</td>\n",
       "    </tr>\n",
       "    <tr>\n",
       "      <th>1</th>\n",
       "      <td>4.0</td>\n",
       "      <td>12.0</td>\n",
       "      <td>0.0</td>\n",
       "      <td>2.0</td>\n",
       "      <td>1.0</td>\n",
       "      <td>1.0</td>\n",
       "      <td>15.0</td>\n",
       "      <td>19.0</td>\n",
       "      <td>73.3750</td>\n",
       "      <td>0.174129</td>\n",
       "      <td>6606.0</td>\n",
       "    </tr>\n",
       "    <tr>\n",
       "      <th>2</th>\n",
       "      <td>2.0</td>\n",
       "      <td>6.0</td>\n",
       "      <td>0.0</td>\n",
       "      <td>4.0</td>\n",
       "      <td>1.0</td>\n",
       "      <td>1.0</td>\n",
       "      <td>26.0</td>\n",
       "      <td>28.0</td>\n",
       "      <td>56.9583</td>\n",
       "      <td>0.253733</td>\n",
       "      <td>7363.0</td>\n",
       "    </tr>\n",
       "    <tr>\n",
       "      <th>3</th>\n",
       "      <td>4.0</td>\n",
       "      <td>12.0</td>\n",
       "      <td>0.0</td>\n",
       "      <td>0.0</td>\n",
       "      <td>0.0</td>\n",
       "      <td>1.0</td>\n",
       "      <td>0.0</td>\n",
       "      <td>4.0</td>\n",
       "      <td>58.6250</td>\n",
       "      <td>0.169779</td>\n",
       "      <td>2431.0</td>\n",
       "    </tr>\n",
       "    <tr>\n",
       "      <th>4</th>\n",
       "      <td>3.0</td>\n",
       "      <td>9.0</td>\n",
       "      <td>0.0</td>\n",
       "      <td>3.0</td>\n",
       "      <td>1.0</td>\n",
       "      <td>3.0</td>\n",
       "      <td>23.0</td>\n",
       "      <td>23.0</td>\n",
       "      <td>91.7083</td>\n",
       "      <td>0.097021</td>\n",
       "      <td>1996.0</td>\n",
       "    </tr>\n",
       "  </tbody>\n",
       "</table>\n",
       "</div>"
      ],
      "text/plain": [
       "   season  month  holiday  day_of_week  workingday  weather  temp  atemp  \\\n",
       "0     2.0    5.0      0.0          2.0         1.0      2.0  24.0   26.0   \n",
       "1     4.0   12.0      0.0          2.0         1.0      1.0  15.0   19.0   \n",
       "2     2.0    6.0      0.0          4.0         1.0      1.0  26.0   28.0   \n",
       "3     4.0   12.0      0.0          0.0         0.0      1.0   0.0    4.0   \n",
       "4     3.0    9.0      0.0          3.0         1.0      3.0  23.0   23.0   \n",
       "\n",
       "   humidity  windspeed  rentals  \n",
       "0   76.5833   0.118167   6073.0  \n",
       "1   73.3750   0.174129   6606.0  \n",
       "2   56.9583   0.253733   7363.0  \n",
       "3   58.6250   0.169779   2431.0  \n",
       "4   91.7083   0.097021   1996.0  "
      ]
     },
     "execution_count": 66,
     "metadata": {},
     "output_type": "execute_result"
    }
   ],
   "source": [
    "train.head()"
   ]
  },
  {
   "cell_type": "code",
   "execution_count": 67,
   "metadata": {},
   "outputs": [
    {
     "data": {
      "text/plain": [
       "<matplotlib.axes._subplots.AxesSubplot at 0x11f6af10>"
      ]
     },
     "execution_count": 67,
     "metadata": {},
     "output_type": "execute_result"
    },
    {
     "data": {
      "image/png": "[encoded data removed]",
      "text/plain": [
       "<Figure size 432x288 with 1 Axes>"
      ]
     },
     "metadata": {
      "needs_background": "light"
     },
     "output_type": "display_data"
    }
   ],
   "source": [
    "import seaborn as sns\n",
    "%matplotlib inline\n",
    "\n",
    "sns.countplot(x='day_of_week',data=train)"
   ]
  },
  {
   "cell_type": "code",
   "execution_count": 12,
   "metadata": {},
   "outputs": [
    {
     "data": {
      "text/plain": [
       "<matplotlib.axes._subplots.AxesSubplot at 0xf62a9f0>"
      ]
     },
     "execution_count": 12,
     "metadata": {},
     "output_type": "execute_result"
    },
    {
     "data": {
      "image/png": "[encoded data removed]",
      "text/plain": [
       "<Figure size 432x288 with 1 Axes>"
      ]
     },
     "metadata": {
      "needs_background": "light"
     },
     "output_type": "display_data"
    }
   ],
   "source": [
    "sns.countplot(x='season',data=train)"
   ]
  },
  {
   "cell_type": "code",
   "execution_count": 13,
   "metadata": {},
   "outputs": [
    {
     "data": {
      "text/html": [
       "<div>\n",
       "<style scoped>\n",
       "    .dataframe tbody tr th:only-of-type {\n",
       "        vertical-align: middle;\n",
       "    }\n",
       "\n",
       "    .dataframe tbody tr th {\n",
       "        vertical-align: top;\n",
       "    }\n",
       "\n",
       "    .dataframe thead th {\n",
       "        text-align: right;\n",
       "    }\n",
       "</style>\n",
       "<table border=\"1\" class=\"dataframe\">\n",
       "  <thead>\n",
       "    <tr style=\"text-align: right;\">\n",
       "      <th></th>\n",
       "      <th>season</th>\n",
       "      <th>month</th>\n",
       "      <th>holiday</th>\n",
       "      <th>day_of_week</th>\n",
       "      <th>workingday</th>\n",
       "      <th>weather</th>\n",
       "      <th>temp</th>\n",
       "      <th>atemp</th>\n",
       "      <th>humidity</th>\n",
       "      <th>windspeed</th>\n",
       "      <th>rentals</th>\n",
       "    </tr>\n",
       "  </thead>\n",
       "  <tbody>\n",
       "    <tr>\n",
       "      <th>count</th>\n",
       "      <td>331.000000</td>\n",
       "      <td>331.000000</td>\n",
       "      <td>331.000000</td>\n",
       "      <td>331.000000</td>\n",
       "      <td>331.000000</td>\n",
       "      <td>331.000000</td>\n",
       "      <td>331.000000</td>\n",
       "      <td>331.000000</td>\n",
       "      <td>331.000000</td>\n",
       "      <td>331.000000</td>\n",
       "      <td>331.000000</td>\n",
       "    </tr>\n",
       "    <tr>\n",
       "      <th>mean</th>\n",
       "      <td>2.561934</td>\n",
       "      <td>6.640483</td>\n",
       "      <td>0.033233</td>\n",
       "      <td>2.854985</td>\n",
       "      <td>0.670695</td>\n",
       "      <td>1.389728</td>\n",
       "      <td>17.018127</td>\n",
       "      <td>19.543807</td>\n",
       "      <td>63.385776</td>\n",
       "      <td>0.190833</td>\n",
       "      <td>4598.447130</td>\n",
       "    </tr>\n",
       "    <tr>\n",
       "      <th>std</th>\n",
       "      <td>1.094726</td>\n",
       "      <td>3.353974</td>\n",
       "      <td>0.179515</td>\n",
       "      <td>2.048680</td>\n",
       "      <td>0.470672</td>\n",
       "      <td>0.546962</td>\n",
       "      <td>11.192515</td>\n",
       "      <td>9.930991</td>\n",
       "      <td>14.334789</td>\n",
       "      <td>0.078240</td>\n",
       "      <td>1935.319338</td>\n",
       "    </tr>\n",
       "    <tr>\n",
       "      <th>min</th>\n",
       "      <td>1.000000</td>\n",
       "      <td>1.000000</td>\n",
       "      <td>0.000000</td>\n",
       "      <td>0.000000</td>\n",
       "      <td>0.000000</td>\n",
       "      <td>1.000000</td>\n",
       "      <td>-11.000000</td>\n",
       "      <td>-6.000000</td>\n",
       "      <td>25.416700</td>\n",
       "      <td>0.022392</td>\n",
       "      <td>431.000000</td>\n",
       "    </tr>\n",
       "    <tr>\n",
       "      <th>25%</th>\n",
       "      <td>2.000000</td>\n",
       "      <td>4.000000</td>\n",
       "      <td>0.000000</td>\n",
       "      <td>1.000000</td>\n",
       "      <td>0.000000</td>\n",
       "      <td>1.000000</td>\n",
       "      <td>7.500000</td>\n",
       "      <td>11.000000</td>\n",
       "      <td>52.702900</td>\n",
       "      <td>0.133083</td>\n",
       "      <td>3370.000000</td>\n",
       "    </tr>\n",
       "    <tr>\n",
       "      <th>50%</th>\n",
       "      <td>3.000000</td>\n",
       "      <td>7.000000</td>\n",
       "      <td>0.000000</td>\n",
       "      <td>3.000000</td>\n",
       "      <td>1.000000</td>\n",
       "      <td>1.000000</td>\n",
       "      <td>18.000000</td>\n",
       "      <td>21.000000</td>\n",
       "      <td>63.291700</td>\n",
       "      <td>0.178479</td>\n",
       "      <td>4648.000000</td>\n",
       "    </tr>\n",
       "    <tr>\n",
       "      <th>75%</th>\n",
       "      <td>4.000000</td>\n",
       "      <td>9.500000</td>\n",
       "      <td>0.000000</td>\n",
       "      <td>5.000000</td>\n",
       "      <td>1.000000</td>\n",
       "      <td>2.000000</td>\n",
       "      <td>26.000000</td>\n",
       "      <td>27.000000</td>\n",
       "      <td>73.500000</td>\n",
       "      <td>0.235380</td>\n",
       "      <td>5981.000000</td>\n",
       "    </tr>\n",
       "    <tr>\n",
       "      <th>max</th>\n",
       "      <td>4.000000</td>\n",
       "      <td>12.000000</td>\n",
       "      <td>1.000000</td>\n",
       "      <td>6.000000</td>\n",
       "      <td>1.000000</td>\n",
       "      <td>3.000000</td>\n",
       "      <td>38.000000</td>\n",
       "      <td>39.000000</td>\n",
       "      <td>97.250000</td>\n",
       "      <td>0.421642</td>\n",
       "      <td>8714.000000</td>\n",
       "    </tr>\n",
       "  </tbody>\n",
       "</table>\n",
       "</div>"
      ],
      "text/plain": [
       "           season       month     holiday  day_of_week  workingday  \\\n",
       "count  331.000000  331.000000  331.000000   331.000000  331.000000   \n",
       "mean     2.561934    6.640483    0.033233     2.854985    0.670695   \n",
       "std      1.094726    3.353974    0.179515     2.048680    0.470672   \n",
       "min      1.000000    1.000000    0.000000     0.000000    0.000000   \n",
       "25%      2.000000    4.000000    0.000000     1.000000    0.000000   \n",
       "50%      3.000000    7.000000    0.000000     3.000000    1.000000   \n",
       "75%      4.000000    9.500000    0.000000     5.000000    1.000000   \n",
       "max      4.000000   12.000000    1.000000     6.000000    1.000000   \n",
       "\n",
       "          weather        temp       atemp    humidity   windspeed      rentals  \n",
       "count  331.000000  331.000000  331.000000  331.000000  331.000000   331.000000  \n",
       "mean     1.389728   17.018127   19.543807   63.385776    0.190833  4598.447130  \n",
       "std      0.546962   11.192515    9.930991   14.334789    0.078240  1935.319338  \n",
       "min      1.000000  -11.000000   -6.000000   25.416700    0.022392   431.000000  \n",
       "25%      1.000000    7.500000   11.000000   52.702900    0.133083  3370.000000  \n",
       "50%      1.000000   18.000000   21.000000   63.291700    0.178479  4648.000000  \n",
       "75%      2.000000   26.000000   27.000000   73.500000    0.235380  5981.000000  \n",
       "max      3.000000   38.000000   39.000000   97.250000    0.421642  8714.000000  "
      ]
     },
     "execution_count": 13,
     "metadata": {},
     "output_type": "execute_result"
    }
   ],
   "source": [
    "train.describe()"
   ]
  },
  {
   "cell_type": "code",
   "execution_count": 14,
   "metadata": {},
   "outputs": [
    {
     "data": {
      "text/plain": [
       "<matplotlib.axes._subplots.AxesSubplot at 0xf62a270>"
      ]
     },
     "execution_count": 14,
     "metadata": {},
     "output_type": "execute_result"
    },
    {
     "data": {
      "image/png": "[encoded data removed]",
      "text/plain": [
       "<Figure size 432x288 with 1 Axes>"
      ]
     },
     "metadata": {
      "needs_background": "light"
     },
     "output_type": "display_data"
    }
   ],
   "source": [
    "sns.countplot(x='weather',data=train)"
   ]
  },
  {
   "cell_type": "code",
   "execution_count": 15,
   "metadata": {},
   "outputs": [
    {
     "data": {
      "text/plain": [
       "<BarContainer object of 331 artists>"
      ]
     },
     "execution_count": 15,
     "metadata": {},
     "output_type": "execute_result"
    },
    {
     "data": {
      "image/png": "[encoded data removed]",
      "text/plain": [
       "<Figure size 432x288 with 1 Axes>"
      ]
     },
     "metadata": {
      "needs_background": "light"
     },
     "output_type": "display_data"
    }
   ],
   "source": [
    "plt.bar(train['temp'], train['rentals']) "
   ]
  },
  {
   "cell_type": "markdown",
   "metadata": {},
   "source": [
    "The graph above shows that as the temperature is low, the number of bike rentals decreased. We can clearly see that there is large amount of bike rentals, when the temperature is 23 - 24."
   ]
  },
  {
   "cell_type": "code",
   "execution_count": 16,
   "metadata": {},
   "outputs": [
    {
     "data": {
      "text/plain": [
       "<matplotlib.axes._subplots.AxesSubplot at 0xf707e10>"
      ]
     },
     "execution_count": 16,
     "metadata": {},
     "output_type": "execute_result"
    },
    {
     "data": {
      "image/png": "[encoded data removed]",
      "text/plain": [
       "<Figure size 432x288 with 1 Axes>"
      ]
     },
     "metadata": {
      "needs_background": "light"
     },
     "output_type": "display_data"
    }
   ],
   "source": [
    "sns.countplot(x='temp',data=train)"
   ]
  },
  {
   "cell_type": "code",
   "execution_count": 23,
   "metadata": {},
   "outputs": [
    {
     "data": {
      "text/plain": [
       "<BarContainer object of 331 artists>"
      ]
     },
     "execution_count": 23,
     "metadata": {},
     "output_type": "execute_result"
    },
    {
     "data": {
      "image/png": "[encoded data removed]",
      "text/plain": [
       "<Figure size 432x288 with 1 Axes>"
      ]
     },
     "metadata": {
      "needs_background": "light"
     },
     "output_type": "display_data"
    }
   ],
   "source": [
    "plt.bar(train['season'], train['rentals']) "
   ]
  },
  {
   "cell_type": "code",
   "execution_count": 24,
   "metadata": {},
   "outputs": [
    {
     "data": {
      "text/plain": [
       "<BarContainer object of 331 artists>"
      ]
     },
     "execution_count": 24,
     "metadata": {},
     "output_type": "execute_result"
    },
    {
     "data": {
      "image/png": "[encoded data removed]",
      "text/plain": [
       "<Figure size 432x288 with 1 Axes>"
      ]
     },
     "metadata": {
      "needs_background": "light"
     },
     "output_type": "display_data"
    }
   ],
   "source": [
    "plt.bar(train['month'], train['rentals']) "
   ]
  },
  {
   "cell_type": "code",
   "execution_count": 25,
   "metadata": {},
   "outputs": [
    {
     "data": {
      "text/plain": [
       "<BarContainer object of 331 artists>"
      ]
     },
     "execution_count": 25,
     "metadata": {},
     "output_type": "execute_result"
    },
    {
     "data": {
      "image/png": "[encoded data removed]",
      "text/plain": [
       "<Figure size 432x288 with 1 Axes>"
      ]
     },
     "metadata": {
      "needs_background": "light"
     },
     "output_type": "display_data"
    }
   ],
   "source": [
    "plt.bar(train['atemp'], train['rentals']) "
   ]
  },
  {
   "cell_type": "code",
   "execution_count": 26,
   "metadata": {},
   "outputs": [
    {
     "data": {
      "text/plain": [
       "<BarContainer object of 331 artists>"
      ]
     },
     "execution_count": 26,
     "metadata": {},
     "output_type": "execute_result"
    },
    {
     "data": {
      "image/png": "[encoded data removed]",
      "text/plain": [
       "<Figure size 432x288 with 1 Axes>"
      ]
     },
     "metadata": {
      "needs_background": "light"
     },
     "output_type": "display_data"
    }
   ],
   "source": [
    "plt.bar(train['humidity'], train['rentals']) "
   ]
  },
  {
   "cell_type": "code",
   "execution_count": 27,
   "metadata": {},
   "outputs": [
    {
     "data": {
      "text/plain": [
       "<BarContainer object of 331 artists>"
      ]
     },
     "execution_count": 27,
     "metadata": {},
     "output_type": "execute_result"
    },
    {
     "data": {
      "image/png": "[encoded data removed]",
      "text/plain": [
       "<Figure size 432x288 with 1 Axes>"
      ]
     },
     "metadata": {
      "needs_background": "light"
     },
     "output_type": "display_data"
    }
   ],
   "source": [
    "plt.bar(train['windspeed'], train['rentals']) "
   ]
  },
  {
   "cell_type": "code",
   "execution_count": 28,
   "metadata": {},
   "outputs": [
    {
     "data": {
      "image/png": "[encoded data removed]",
      "text/plain": [
       "<Figure size 432x288 with 1 Axes>"
      ]
     },
     "metadata": {
      "needs_background": "light"
     },
     "output_type": "display_data"
    }
   ],
   "source": [
    "#for getting the average rentals on working day and non-working data\n",
    "\n",
    "avarage_rentals = [0, 0]\n",
    "\n",
    "objects = ('0', '1')\n",
    "\n",
    "x_pos = np.arange(len(objects))\n",
    "\n",
    "day = [train.loc[train['workingday'] == 0, 'rentals'].sum()]\n",
    "\n",
    "day.append(train.loc[train['workingday'] == 1,'rentals'].sum())\n",
    "\n",
    "freq = train['workingday'].value_counts()\n",
    "\n",
    "avarage_rentals[0] = day[0]/freq[0]\n",
    "\n",
    "avarage_rentals[1] = day[1]/freq[1]\n",
    "\n",
    "plt.bar(x_pos, avarage_rentals, align='center', alpha=0.5) \n",
    "plt.xticks(x_pos, ['Non-working Day', 'Working Day']) \n",
    "plt.ylabel('Rental Counts') \n",
    "plt.title('Relative Rentals Weekend vs. Weekday') \n",
    "plt.show()"
   ]
  },
  {
   "cell_type": "markdown",
   "metadata": {},
   "source": [
    "The avarage rentals on a working day and non working are almost same."
   ]
  },
  {
   "cell_type": "code",
   "execution_count": 29,
   "metadata": {},
   "outputs": [
    {
     "data": {
      "image/png": "[encoded data removed]",
      "text/plain": [
       "<Figure size 432x288 with 1 Axes>"
      ]
     },
     "metadata": {
      "needs_background": "light"
     },
     "output_type": "display_data"
    }
   ],
   "source": [
    "#for getting the average rentals on holiday and not a holiday\n",
    "\n",
    "avarage_rentals = [0, 0]\n",
    "\n",
    "objects = ('0', '1')\n",
    "\n",
    "x_pos = np.arange(len(objects))\n",
    "\n",
    "day = [train.loc[train['holiday'] == 0, 'rentals'].sum()]\n",
    "\n",
    "day.append(train.loc[train['holiday'] == 1,'rentals'].sum())\n",
    "\n",
    "freq = train['holiday'].value_counts()\n",
    "\n",
    "avarage_rentals[0] = day[0]/freq[0]\n",
    "\n",
    "avarage_rentals[1] = day[1]/freq[1]\n",
    "\n",
    "plt.bar(x_pos, avarage_rentals, align='center', alpha=0.5) \n",
    "plt.xticks(x_pos, ['Not a holiday', 'Is a holiday']) \n",
    "plt.ylabel('Rental Counts') \n",
    "plt.title('Relative Rentals Holiday vs not a holiday') \n",
    "plt.show()"
   ]
  },
  {
   "cell_type": "markdown",
   "metadata": {},
   "source": [
    "We can see in the graph above that number of bike rentals on holidays is less and more when there is no holiday"
   ]
  },
  {
   "cell_type": "code",
   "execution_count": 30,
   "metadata": {},
   "outputs": [
    {
     "data": {
      "image/png": "[encoded data removed]",
      "text/plain": [
       "<Figure size 432x288 with 1 Axes>"
      ]
     },
     "metadata": {
      "needs_background": "light"
     },
     "output_type": "display_data"
    }
   ],
   "source": [
    "#for getting the average rentals on working day and non-working data\n",
    "\n",
    "avarage_rentals = [0, 0, 0, 0]\n",
    "\n",
    "objects = ('1', '2', '3', '4')\n",
    "\n",
    "x_pos = np.arange(len(objects))\n",
    "\n",
    "day = [train.loc[train['season'] == 1, 'rentals'].sum()]\n",
    "\n",
    "day.append(train.loc[train['season'] == 2,'rentals'].sum())\n",
    "\n",
    "day.append(train.loc[train['season'] == 3,'rentals'].sum())\n",
    "\n",
    "day.append(train.loc[train['season'] == 4,'rentals'].sum())\n",
    "\n",
    "freq = train['season'].value_counts()\n",
    "\n",
    "avarage_rentals[0] = day[0]/freq.iat[1]\n",
    "\n",
    "avarage_rentals[1] = day[1]/freq.iat[3]\n",
    "\n",
    "avarage_rentals[2] = day[2]/freq.iat[0]\n",
    "\n",
    "avarage_rentals[3] = day[3]/freq.iat[2]\n",
    "\n",
    "plt.bar(x_pos, avarage_rentals, align='center', alpha=0.5) \n",
    "plt.xticks(x_pos, ['Spring', 'Summer', 'Fall', 'Winter']) \n",
    "plt.ylabel('Rental Counts') \n",
    "plt.title('Relative Rentals Weekend vs. Weekday') \n",
    "plt.show()"
   ]
  },
  {
   "cell_type": "markdown",
   "metadata": {},
   "source": [
    "We next require you to pre-process the categorical and numerical attributes in the data set:\n",
    "\n",
    "- Notice that this data set contains categorical attributes with two or more categories. **Why can't they be directly used as predictors?** Convert these categorical attributes into multiple binary attributes using one-hot encoding: in the place of every categorical attribute $x_j$ that has categories $1, \\ldots, K_j$, introduce $K_j-1$ binary predictors $x_{j1}, \\ldots, x_{j,K_j-1}$ where $x_{jk}$ is 1 whenever $x_j = k$ and 0 otherwise. \n",
    "** Why is it okay to not have a binary column for the $K_j$-th category? **\n",
    "\n",
    "- Since the attributes are in different scales, it is a good practice to standardize the continuous predictors, i.e. to scale each continuous predictor to have zero mean and a standard deviation of 1. This can be done by applying the following transform to each continuous-valued predictor $j$:\n",
    "$\\hat{x}_{ij} = (x_{ij} - \\bar{x}_j) / s_j$, where $\\bar{x}_j$ and $s_j$ are the sample mean and sample standard deviation (SD) of predictor $j$ in the training set. We emphasize that the mean and SD values used for standardization must be estimated using only the training set observations, while the transform is applied to both the training and test sets. \n",
    "** Why shouldn't we include the test set observations in computing the mean and SD? **\n",
    "\n",
    "- Provide a table of the summary statistics of the new attributes (`pd.describe()' function will help).\n",
    "\n",
    "*Hint:* You may use the `pd.get_dummies` function to convert a categorical attribute in a data frame to one-hot encoding. This function creates $K$ binary columns for an attribute with $K$ categories. We suggest that you delete the last (or first) binary column generated by this function.\n",
    "\n",
    "**Note:** We shall use the term \"attribute\" to refer to a categorical column in the data set, and the term \"predictor\" to refer to the individual binary columns resulting out of one-hot encoding."
   ]
  },
  {
   "cell_type": "code",
   "execution_count": 72,
   "metadata": {},
   "outputs": [
    {
     "data": {
      "text/plain": [
       "Index(['season', 'month', 'holiday', 'day_of_week', 'workingday', 'weather',\n",
       "       'temp', 'atemp', 'humidity', 'windspeed', 'rentals'],\n",
       "      dtype='object')"
      ]
     },
     "execution_count": 72,
     "metadata": {},
     "output_type": "execute_result"
    }
   ],
   "source": [
    "test.columns"
   ]
  },
  {
   "cell_type": "code",
   "execution_count": 74,
   "metadata": {},
   "outputs": [],
   "source": [
    "y_train = train['rentals'].values\n",
    "X_train = train[['holiday', 'season','month','day_of_week','workingday','weather','temp'\n",
    "                ,'atemp','humidity','windspeed']].values\n",
    "\n",
    "y_test = test['rentals'].values\n",
    "X_test = test[['holiday','season','month','day_of_week','workingday','weather','temp','atemp','humidity','windspeed']].values"
   ]
  },
  {
   "cell_type": "markdown",
   "metadata": {},
   "source": [
    "## Part (b): Multiple Linear Regression\n",
    "\n",
    "We are now ready to fit a linear regression model and analyze its coefficients and residuals.\n",
    "\n",
    "- Fit a multiple linear regression model to the training set, and report its $R^2$ score on the test set.\n",
    "- *Statistical significance*: Using a t-test, find out which of estimated coefficients are statistically significant at a significance level of 5% (p-value<0.05). Based on the results of the test, answer the following questions:\n",
    "    - Which among the predictors have a positive correlation with the number of bike rentals? \n",
    "    - Does the day of a week have a relationship with bike rentals? \n",
    "    - Does the month influence the bike rentals? \n",
    "    - What effect does a holiday have on  bike rentals? \n",
    "    - Is there a difference in the coefficients assigned to `temp` and `atemp`? Give an explanation for your observation.\n",
    "- *Residual plot:* Make a plot of residuals of the fitted model ${e} = y - \\hat{y}$ as a function of the predicted value $\\hat{y}$. Note that this is different from the residual plot for simple linear regression. Draw a horizontal line denoting the zero residual value on the Y-axis. Does the plot reveal a non-linear relationship between the predictors and response? What does the plot convey about the variance of the error terms?\n"
   ]
  },
  {
   "cell_type": "code",
   "execution_count": 75,
   "metadata": {},
   "outputs": [
    {
     "name": "stdout",
     "output_type": "stream",
     "text": [
      "(331, 10) (331, 1) (400, 10) (400, 1)\n"
     ]
    }
   ],
   "source": [
    "y_train = y_train.reshape(len(y_train), 1)\n",
    "y_test = y_test.reshape(len(y_test), 1)\n",
    "print(X_train.shape, y_train.shape, X_test.shape , y_test.shape)"
   ]
  },
  {
   "cell_type": "code",
   "execution_count": 81,
   "metadata": {},
   "outputs": [
    {
     "name": "stdout",
     "output_type": "stream",
     "text": [
      "The equation of the regression plane is: [4352.16862916] + [[ -323.48649012   470.93789715   -28.96086316    85.39355534\n",
      "    130.21449762  -417.64711445    35.83736735    62.03656361\n",
      "    -28.12808922 -2867.83535287]]^T . x\n"
     ]
    }
   ],
   "source": [
    "X_train_lm = X_train\n",
    "y_train_lm = y_train\n",
    "\n",
    "\n",
    "lm_1 = LinearRegression(fit_intercept=True)\n",
    "lm_1.fit(X_train, y_train)\n",
    "\n",
    "y_pred = lm_1.predict(X_test)\n",
    "\n",
    "print('The equation of the regression plane is: {} + {}^T . x'.format(lm_1.intercept_, lm_1.coef_))"
   ]
  },
  {
   "cell_type": "code",
   "execution_count": 82,
   "metadata": {},
   "outputs": [
    {
     "data": {
      "image/png": "[encoded data removed]",
      "text/plain": [
       "<Figure size 432x288 with 1 Axes>"
      ]
     },
     "metadata": {
      "needs_background": "light"
     },
     "output_type": "display_data"
    }
   ],
   "source": [
    "# Residual plot\n",
    "plt.hist(y_test - y_pred, bins=100)\n",
    "plt.axvline(x=0, color = \"black\")\n",
    "plt.ylabel('residual')\n",
    "plt.xlabel('count')\n",
    "plt.show()"
   ]
  },
  {
   "cell_type": "code",
   "execution_count": 79,
   "metadata": {},
   "outputs": [],
   "source": [
    "# your code here\n",
    "#x train contains all the values in data frame except the rentals\n",
    "#same with the test\n",
    "Xtrain, ytrain = train.drop('rentals', axis =1), train['rentals'].values.reshape(-1,1)\n",
    "Xtest, ytest = test.drop('rentals', axis =1), test['rentals'].values.reshape(-1, 1)\n",
    "\n",
    "#building a multiple linear regression we have to fit some constant and fit the model\n",
    "mult_reg = sm.OLS(ytrain, sm.add_constant(Xtrain)).fit()\n",
    "\n",
    "ytest_pred = mult_reg.predict(sm.add_constant(Xtest))\n",
    "ytrain_pred = mult_reg.predict(sm.add_constant(Xtrain))"
   ]
  },
  {
   "cell_type": "code",
   "execution_count": 80,
   "metadata": {},
   "outputs": [
    {
     "name": "stdout",
     "output_type": "stream",
     "text": [
      "                            OLS Regression Results                            \n",
      "==============================================================================\n",
      "Dep. Variable:                      y   R-squared:                       0.502\n",
      "Model:                            OLS   Adj. R-squared:                  0.486\n",
      "Method:                 Least Squares   F-statistic:                     32.23\n",
      "Date:                Sat, 10 Aug 2019   Prob (F-statistic):           7.29e-43\n",
      "Time:                        10:45:26   Log-Likelihood:                -2858.9\n",
      "No. Observations:                 331   AIC:                             5740.\n",
      "Df Residuals:                     320   BIC:                             5782.\n",
      "Df Model:                          10                                         \n",
      "Covariance Type:            nonrobust                                         \n",
      "===============================================================================\n",
      "                  coef    std err          t      P>|t|      [0.025      0.975]\n",
      "-------------------------------------------------------------------------------\n",
      "const        4352.1686    556.349      7.823      0.000    3257.605    5446.733\n",
      "season        470.9379    137.939      3.414      0.001     199.557     742.319\n",
      "month         -28.9609     43.923     -0.659      0.510    -115.375      57.454\n",
      "holiday      -323.4865    447.963     -0.722      0.471   -1204.812     557.839\n",
      "day_of_week    85.3936     37.968      2.249      0.025      10.696     160.091\n",
      "workingday    130.2145    170.220      0.765      0.445    -204.677     465.106\n",
      "weather      -417.6471    198.745     -2.101      0.036    -808.659     -26.635\n",
      "temp           35.8374     38.669      0.927      0.355     -40.240     111.914\n",
      "atemp          62.0366     43.814      1.416      0.158     -24.164     148.237\n",
      "humidity      -28.1281      7.809     -3.602      0.000     -43.491     -12.765\n",
      "windspeed   -2867.8354   1063.780     -2.696      0.007   -4960.721    -774.950\n",
      "==============================================================================\n",
      "Omnibus:                       20.589   Durbin-Watson:                   1.956\n",
      "Prob(Omnibus):                  0.000   Jarque-Bera (JB):                8.130\n",
      "Skew:                           0.057   Prob(JB):                       0.0172\n",
      "Kurtosis:                       2.241   Cond. No.                     1.04e+03\n",
      "==============================================================================\n",
      "\n",
      "Warnings:\n",
      "[1] Standard Errors assume that the covariance matrix of the errors is correctly specified.\n",
      "[2] The condition number is large, 1.04e+03. This might indicate that there are\n",
      "strong multicollinearity or other numerical problems.\n"
     ]
    }
   ],
   "source": [
    "print(mult_reg.summary())"
   ]
  },
  {
   "cell_type": "markdown",
   "metadata": {},
   "source": [
    "your answers here"
   ]
  },
  {
   "cell_type": "markdown",
   "metadata": {},
   "source": [
    "## Part (c): Checking Collinearity\n",
    "\n",
    "Does the data suffer from multi-collinearity? To answer this question, let us first analyze the correlation matrix for the data. Compute the (Pearson product-moment) correlation matrix for the predictor variables in the training set, and visualize the matrix using a heatmap. For categorical attributes, you should use each binary predictor resulting from one-hot encoding to compute their correlations.  Are there predictors that fall into natural groups based on the correlation values? \n",
    "\n",
    "*Hint:* You may use the `np.corrcoef` function to compute the correlation matrix for a data set (do not forget to transpose the data matrix). You may use `plt.pcolor` function to visualize the correlation matrix."
   ]
  },
  {
   "cell_type": "code",
   "execution_count": 34,
   "metadata": {},
   "outputs": [
    {
     "data": {
      "text/html": [
       "<div>\n",
       "<style scoped>\n",
       "    .dataframe tbody tr th:only-of-type {\n",
       "        vertical-align: middle;\n",
       "    }\n",
       "\n",
       "    .dataframe tbody tr th {\n",
       "        vertical-align: top;\n",
       "    }\n",
       "\n",
       "    .dataframe thead th {\n",
       "        text-align: right;\n",
       "    }\n",
       "</style>\n",
       "<table border=\"1\" class=\"dataframe\">\n",
       "  <thead>\n",
       "    <tr style=\"text-align: right;\">\n",
       "      <th></th>\n",
       "      <th>season</th>\n",
       "      <th>month</th>\n",
       "      <th>holiday</th>\n",
       "      <th>day_of_week</th>\n",
       "      <th>workingday</th>\n",
       "      <th>weather</th>\n",
       "      <th>temp</th>\n",
       "      <th>atemp</th>\n",
       "      <th>humidity</th>\n",
       "      <th>windspeed</th>\n",
       "    </tr>\n",
       "  </thead>\n",
       "  <tbody>\n",
       "    <tr>\n",
       "      <th>season</th>\n",
       "      <td>1.000000</td>\n",
       "      <td>0.850795</td>\n",
       "      <td>-0.018215</td>\n",
       "      <td>-0.039220</td>\n",
       "      <td>-0.016169</td>\n",
       "      <td>-0.017659</td>\n",
       "      <td>0.308064</td>\n",
       "      <td>0.317435</td>\n",
       "      <td>0.199211</td>\n",
       "      <td>-0.241311</td>\n",
       "    </tr>\n",
       "    <tr>\n",
       "      <th>month</th>\n",
       "      <td>0.850795</td>\n",
       "      <td>1.000000</td>\n",
       "      <td>0.019904</td>\n",
       "      <td>-0.058327</td>\n",
       "      <td>-0.044510</td>\n",
       "      <td>-0.022502</td>\n",
       "      <td>0.210458</td>\n",
       "      <td>0.220412</td>\n",
       "      <td>0.186807</td>\n",
       "      <td>-0.235166</td>\n",
       "    </tr>\n",
       "    <tr>\n",
       "      <th>holiday</th>\n",
       "      <td>-0.018215</td>\n",
       "      <td>0.019904</td>\n",
       "      <td>1.000000</td>\n",
       "      <td>-0.143411</td>\n",
       "      <td>-0.264597</td>\n",
       "      <td>-0.070582</td>\n",
       "      <td>0.020814</td>\n",
       "      <td>0.015329</td>\n",
       "      <td>0.004507</td>\n",
       "      <td>-0.019892</td>\n",
       "    </tr>\n",
       "    <tr>\n",
       "      <th>day_of_week</th>\n",
       "      <td>-0.039220</td>\n",
       "      <td>-0.058327</td>\n",
       "      <td>-0.143411</td>\n",
       "      <td>1.000000</td>\n",
       "      <td>0.085459</td>\n",
       "      <td>0.028955</td>\n",
       "      <td>-0.011515</td>\n",
       "      <td>-0.028433</td>\n",
       "      <td>-0.019374</td>\n",
       "      <td>0.015946</td>\n",
       "    </tr>\n",
       "    <tr>\n",
       "      <th>workingday</th>\n",
       "      <td>-0.016169</td>\n",
       "      <td>-0.044510</td>\n",
       "      <td>-0.264597</td>\n",
       "      <td>0.085459</td>\n",
       "      <td>1.000000</td>\n",
       "      <td>0.099822</td>\n",
       "      <td>0.062111</td>\n",
       "      <td>0.059173</td>\n",
       "      <td>0.093130</td>\n",
       "      <td>-0.034752</td>\n",
       "    </tr>\n",
       "    <tr>\n",
       "      <th>weather</th>\n",
       "      <td>-0.017659</td>\n",
       "      <td>-0.022502</td>\n",
       "      <td>-0.070582</td>\n",
       "      <td>0.028955</td>\n",
       "      <td>0.099822</td>\n",
       "      <td>1.000000</td>\n",
       "      <td>-0.140746</td>\n",
       "      <td>-0.141227</td>\n",
       "      <td>0.640794</td>\n",
       "      <td>0.044730</td>\n",
       "    </tr>\n",
       "    <tr>\n",
       "      <th>temp</th>\n",
       "      <td>0.308064</td>\n",
       "      <td>0.210458</td>\n",
       "      <td>0.020814</td>\n",
       "      <td>-0.011515</td>\n",
       "      <td>0.062111</td>\n",
       "      <td>-0.140746</td>\n",
       "      <td>1.000000</td>\n",
       "      <td>0.983897</td>\n",
       "      <td>0.138839</td>\n",
       "      <td>-0.148885</td>\n",
       "    </tr>\n",
       "    <tr>\n",
       "      <th>atemp</th>\n",
       "      <td>0.317435</td>\n",
       "      <td>0.220412</td>\n",
       "      <td>0.015329</td>\n",
       "      <td>-0.028433</td>\n",
       "      <td>0.059173</td>\n",
       "      <td>-0.141227</td>\n",
       "      <td>0.983897</td>\n",
       "      <td>1.000000</td>\n",
       "      <td>0.146056</td>\n",
       "      <td>-0.172064</td>\n",
       "    </tr>\n",
       "    <tr>\n",
       "      <th>humidity</th>\n",
       "      <td>0.199211</td>\n",
       "      <td>0.186807</td>\n",
       "      <td>0.004507</td>\n",
       "      <td>-0.019374</td>\n",
       "      <td>0.093130</td>\n",
       "      <td>0.640794</td>\n",
       "      <td>0.138839</td>\n",
       "      <td>0.146056</td>\n",
       "      <td>1.000000</td>\n",
       "      <td>-0.235940</td>\n",
       "    </tr>\n",
       "    <tr>\n",
       "      <th>windspeed</th>\n",
       "      <td>-0.241311</td>\n",
       "      <td>-0.235166</td>\n",
       "      <td>-0.019892</td>\n",
       "      <td>0.015946</td>\n",
       "      <td>-0.034752</td>\n",
       "      <td>0.044730</td>\n",
       "      <td>-0.148885</td>\n",
       "      <td>-0.172064</td>\n",
       "      <td>-0.235940</td>\n",
       "      <td>1.000000</td>\n",
       "    </tr>\n",
       "  </tbody>\n",
       "</table>\n",
       "</div>"
      ],
      "text/plain": [
       "               season     month   holiday  day_of_week  workingday   weather  \\\n",
       "season       1.000000  0.850795 -0.018215    -0.039220   -0.016169 -0.017659   \n",
       "month        0.850795  1.000000  0.019904    -0.058327   -0.044510 -0.022502   \n",
       "holiday     -0.018215  0.019904  1.000000    -0.143411   -0.264597 -0.070582   \n",
       "day_of_week -0.039220 -0.058327 -0.143411     1.000000    0.085459  0.028955   \n",
       "workingday  -0.016169 -0.044510 -0.264597     0.085459    1.000000  0.099822   \n",
       "weather     -0.017659 -0.022502 -0.070582     0.028955    0.099822  1.000000   \n",
       "temp         0.308064  0.210458  0.020814    -0.011515    0.062111 -0.140746   \n",
       "atemp        0.317435  0.220412  0.015329    -0.028433    0.059173 -0.141227   \n",
       "humidity     0.199211  0.186807  0.004507    -0.019374    0.093130  0.640794   \n",
       "windspeed   -0.241311 -0.235166 -0.019892     0.015946   -0.034752  0.044730   \n",
       "\n",
       "                 temp     atemp  humidity  windspeed  \n",
       "season       0.308064  0.317435  0.199211  -0.241311  \n",
       "month        0.210458  0.220412  0.186807  -0.235166  \n",
       "holiday      0.020814  0.015329  0.004507  -0.019892  \n",
       "day_of_week -0.011515 -0.028433 -0.019374   0.015946  \n",
       "workingday   0.062111  0.059173  0.093130  -0.034752  \n",
       "weather     -0.140746 -0.141227  0.640794   0.044730  \n",
       "temp         1.000000  0.983897  0.138839  -0.148885  \n",
       "atemp        0.983897  1.000000  0.146056  -0.172064  \n",
       "humidity     0.138839  0.146056  1.000000  -0.235940  \n",
       "windspeed   -0.148885 -0.172064 -0.235940   1.000000  "
      ]
     },
     "execution_count": 34,
     "metadata": {},
     "output_type": "execute_result"
    },
    {
     "data": {
      "image/png": "[encoded data removed]",
      "text/plain": [
       "<Figure size 720x720 with 2 Axes>"
      ]
     },
     "metadata": {
      "needs_background": "light"
     },
     "output_type": "display_data"
    }
   ],
   "source": [
    "# your code here\n",
    "\n",
    "corr = train.drop('rentals', axis = 1).corr()\n",
    "\n",
    "plt.figure(figsize=(10,10))\n",
    "sns.heatmap(corr)\n",
    "\n",
    "corr"
   ]
  },
  {
   "cell_type": "markdown",
   "metadata": {},
   "source": [
    "temp and atemp has multi-collinearity season and months also exhibit mulit-collineairty"
   ]
  },
  {
   "cell_type": "markdown",
   "metadata": {},
   "source": [
    "your answers here"
   ]
  },
  {
   "cell_type": "markdown",
   "metadata": {},
   "source": [
    "## Part (d): Subset Selection\n",
    "\n",
    "Apply either one of the following subset selection methods discussed in class to choose a minimal subset of predictors that are related to the response variable:\n",
    "- Step-wise forward selection\n",
    "- Step-wise backward selection\n",
    "\n",
    "We require you to implement both these methods *from scratch*. You may use the Bayesian Information Criterion (BIC) to choose the subset size in each method. Do these methods eliminate one or more of the redundant predictors (if any) identified in Part (c)? In each case, fit linear regression models using the identified subset of predictors to the training set. How do the test $R^2$ scores for the fitted models compare with the model fitted in Part (b) using all predictors?\n",
    "\n",
    "\n"
   ]
  },
  {
   "cell_type": "code",
   "execution_count": 35,
   "metadata": {},
   "outputs": [
    {
     "name": "stdout",
     "output_type": "stream",
     "text": [
      "const          7.583706e-14\n",
      "humidity       3.657555e-04\n",
      "season         7.222613e-04\n",
      "windspeed      7.391276e-03\n",
      "day_of_week    2.518451e-02\n",
      "weather        3.638569e-02\n",
      "atemp          1.577799e-01\n",
      "temp           3.547390e-01\n",
      "workingday     4.448486e-01\n",
      "holiday        4.707437e-01\n",
      "month          5.101427e-01\n",
      "Name: P>|t|, dtype: float64\n"
     ]
    }
   ],
   "source": [
    "# your code here\n",
    "\n",
    "# your code here\n",
    "\n",
    "p_values = mult_reg.summary2().tables[1]['P>|t|']\n",
    "p_values= p_values.sort_values()\n",
    "\n",
    "print(p_values)"
   ]
  },
  {
   "cell_type": "markdown",
   "metadata": {},
   "source": [
    "from the above table we can observe the significance of all the features which are very relevant to predict the bike rentals\n",
    "\n",
    "some of the significant features are humidity, season, windspeed and day of the week"
   ]
  },
  {
   "cell_type": "markdown",
   "metadata": {},
   "source": [
    "your answers here"
   ]
  },
  {
   "cell_type": "markdown",
   "metadata": {},
   "source": [
    "## Part (e): Cross Validation\n",
    "\n",
    "- Perform a 10-fold cross-validation procedure to select between the 3 competing models you have so far: the model with the best BIC from Step-wise forward selection, the model with the best BIC from Step-wise backward selection (if it is different), and the model with all possible predictors.  Report the average $R^2$ across all 10 validation sets for each model and compare the results.  Why do you think this is the case?\n",
    "- Evaluate each of the 3 models on the provided left out test set by calculating $R^2$.  Do the results agree with the cross-validation?  Why or why not?"
   ]
  },
  {
   "cell_type": "code",
   "execution_count": 36,
   "metadata": {},
   "outputs": [
    {
     "data": {
      "text/html": [
       "<div>\n",
       "<style scoped>\n",
       "    .dataframe tbody tr th:only-of-type {\n",
       "        vertical-align: middle;\n",
       "    }\n",
       "\n",
       "    .dataframe tbody tr th {\n",
       "        vertical-align: top;\n",
       "    }\n",
       "\n",
       "    .dataframe thead th {\n",
       "        text-align: right;\n",
       "    }\n",
       "</style>\n",
       "<table border=\"1\" class=\"dataframe\">\n",
       "  <thead>\n",
       "    <tr style=\"text-align: right;\">\n",
       "      <th></th>\n",
       "      <th>season</th>\n",
       "      <th>month</th>\n",
       "      <th>holiday</th>\n",
       "      <th>day_of_week</th>\n",
       "      <th>workingday</th>\n",
       "      <th>weather</th>\n",
       "      <th>temp</th>\n",
       "      <th>atemp</th>\n",
       "      <th>humidity</th>\n",
       "      <th>windspeed</th>\n",
       "      <th>rentals</th>\n",
       "    </tr>\n",
       "  </thead>\n",
       "  <tbody>\n",
       "    <tr>\n",
       "      <th>0</th>\n",
       "      <td>2.0</td>\n",
       "      <td>5.0</td>\n",
       "      <td>0.0</td>\n",
       "      <td>2.0</td>\n",
       "      <td>1.0</td>\n",
       "      <td>2.0</td>\n",
       "      <td>24.0</td>\n",
       "      <td>26.0</td>\n",
       "      <td>76.5833</td>\n",
       "      <td>0.118167</td>\n",
       "      <td>6073.0</td>\n",
       "    </tr>\n",
       "    <tr>\n",
       "      <th>1</th>\n",
       "      <td>4.0</td>\n",
       "      <td>12.0</td>\n",
       "      <td>0.0</td>\n",
       "      <td>2.0</td>\n",
       "      <td>1.0</td>\n",
       "      <td>1.0</td>\n",
       "      <td>15.0</td>\n",
       "      <td>19.0</td>\n",
       "      <td>73.3750</td>\n",
       "      <td>0.174129</td>\n",
       "      <td>6606.0</td>\n",
       "    </tr>\n",
       "    <tr>\n",
       "      <th>2</th>\n",
       "      <td>2.0</td>\n",
       "      <td>6.0</td>\n",
       "      <td>0.0</td>\n",
       "      <td>4.0</td>\n",
       "      <td>1.0</td>\n",
       "      <td>1.0</td>\n",
       "      <td>26.0</td>\n",
       "      <td>28.0</td>\n",
       "      <td>56.9583</td>\n",
       "      <td>0.253733</td>\n",
       "      <td>7363.0</td>\n",
       "    </tr>\n",
       "    <tr>\n",
       "      <th>3</th>\n",
       "      <td>4.0</td>\n",
       "      <td>12.0</td>\n",
       "      <td>0.0</td>\n",
       "      <td>0.0</td>\n",
       "      <td>0.0</td>\n",
       "      <td>1.0</td>\n",
       "      <td>0.0</td>\n",
       "      <td>4.0</td>\n",
       "      <td>58.6250</td>\n",
       "      <td>0.169779</td>\n",
       "      <td>2431.0</td>\n",
       "    </tr>\n",
       "    <tr>\n",
       "      <th>4</th>\n",
       "      <td>3.0</td>\n",
       "      <td>9.0</td>\n",
       "      <td>0.0</td>\n",
       "      <td>3.0</td>\n",
       "      <td>1.0</td>\n",
       "      <td>3.0</td>\n",
       "      <td>23.0</td>\n",
       "      <td>23.0</td>\n",
       "      <td>91.7083</td>\n",
       "      <td>0.097021</td>\n",
       "      <td>1996.0</td>\n",
       "    </tr>\n",
       "  </tbody>\n",
       "</table>\n",
       "</div>"
      ],
      "text/plain": [
       "   season  month  holiday  day_of_week  workingday  weather  temp  atemp  \\\n",
       "0     2.0    5.0      0.0          2.0         1.0      2.0  24.0   26.0   \n",
       "1     4.0   12.0      0.0          2.0         1.0      1.0  15.0   19.0   \n",
       "2     2.0    6.0      0.0          4.0         1.0      1.0  26.0   28.0   \n",
       "3     4.0   12.0      0.0          0.0         0.0      1.0   0.0    4.0   \n",
       "4     3.0    9.0      0.0          3.0         1.0      3.0  23.0   23.0   \n",
       "\n",
       "   humidity  windspeed  rentals  \n",
       "0   76.5833   0.118167   6073.0  \n",
       "1   73.3750   0.174129   6606.0  \n",
       "2   56.9583   0.253733   7363.0  \n",
       "3   58.6250   0.169779   2431.0  \n",
       "4   91.7083   0.097021   1996.0  "
      ]
     },
     "execution_count": 36,
     "metadata": {},
     "output_type": "execute_result"
    }
   ],
   "source": [
    "# your code here\n",
    "\n",
    "train.head(5)"
   ]
  },
  {
   "cell_type": "code",
   "execution_count": 46,
   "metadata": {},
   "outputs": [],
   "source": [
    "from sklearn.linear_model import LinearRegression\n",
    "X_train = train[['holiday', 'workingday', 'temp', 'humidity', 'season', 'day_of_week']].values\n",
    "\n",
    "X_test = test[['holiday', 'workingday', 'temp', 'humidity',  'season', 'day_of_week']].values\n",
    "\n",
    "\n",
    "lm = LinearRegression()\n",
    "lm.fit(X_train, ytrain)\n",
    "\n",
    "y_pred = lm.predict(X_test)"
   ]
  },
  {
   "cell_type": "code",
   "execution_count": 49,
   "metadata": {},
   "outputs": [
    {
     "name": "stdout",
     "output_type": "stream",
     "text": [
      "Cross-validated scores [ 0.57521568  0.42541919  0.28979633 -0.00831534  0.36866027  0.49516293\n",
      "  0.28944237  0.31634679  0.58625154  0.55048747] Average of folds 0.38884672330552\n"
     ]
    }
   ],
   "source": [
    "from sklearn.model_selection import cross_val_score\n",
    "\n",
    "scores = cross_val_score(lm, X_train, ytrain, cv = 10)\n",
    "lm_avg = np.mean(scores)\n",
    "print('Cross-validated scores', scores, 'Average of folds', lm_avg)"
   ]
  },
  {
   "cell_type": "markdown",
   "metadata": {},
   "source": [
    "your answers here"
   ]
  },
  {
   "cell_type": "code",
   "execution_count": 85,
   "metadata": {},
   "outputs": [
    {
     "name": "stdout",
     "output_type": "stream",
     "text": [
      "Cross-validated scores [ 0.61544437  0.49943844  0.34796465  0.01423012  0.44806417 -0.49662574\n",
      "  0.3166238   0.37104866  0.54119654  0.56859189] Average of folds 0.3225976888005126\n"
     ]
    }
   ],
   "source": [
    "# second model\n",
    "scores = cross_val_score(lm_1, Xtrain, ytrain, cv=10)\n",
    "lm_1_avg = np.mean(scores)\n",
    "print('Cross-validated scores', scores, 'Average of folds', lm_1_avg)"
   ]
  },
  {
   "cell_type": "code",
   "execution_count": 86,
   "metadata": {},
   "outputs": [
    {
     "name": "stderr",
     "output_type": "stream",
     "text": [
      "C:\\Users\\DELL\\AppData\\Roaming\\Python\\Python37\\site-packages\\numpy\\core\\fromnumeric.py:2389: FutureWarning: Method .ptp is deprecated and will be removed in a future version. Use numpy.ptp instead.\n",
      "  return ptp(axis=axis, out=out, **kwargs)\n"
     ]
    }
   ],
   "source": [
    "# your code here\n",
    "#x train contains all the values in data frame except the rentals\n",
    "#same with the test\n",
    "Xtrain, ytrain = train.drop(['rentals','holiday','workingday','temp','month'], axis =1), train['rentals'].values.reshape(-1,1)\n",
    "Xtest, ytest = test.drop(['rentals','holiday','temp', 'workingday', 'month'], axis =1), test['rentals'].values.reshape(-1, 1)\n",
    "\n",
    "\n",
    "#building a multiple linear regression we have to fit some constant and fit the model\n",
    "mult_reg = sm.OLS(ytrain, sm.add_constant(Xtrain)).fit()\n",
    "\n",
    "ytest_pred = mult_reg.predict(sm.add_constant(Xtest))\n",
    "ytrain_pred = mult_reg.predict(sm.add_constant(Xtrain))"
   ]
  },
  {
   "cell_type": "code",
   "execution_count": 87,
   "metadata": {},
   "outputs": [
    {
     "name": "stdout",
     "output_type": "stream",
     "text": [
      "                            OLS Regression Results                            \n",
      "==============================================================================\n",
      "Dep. Variable:                      y   R-squared:                       0.497\n",
      "Model:                            OLS   Adj. R-squared:                  0.488\n",
      "Method:                 Least Squares   F-statistic:                     53.42\n",
      "Date:                Sat, 10 Aug 2019   Prob (F-statistic):           1.37e-45\n",
      "Time:                        10:48:21   Log-Likelihood:                -2860.4\n",
      "No. Observations:                 331   AIC:                             5735.\n",
      "Df Residuals:                     324   BIC:                             5761.\n",
      "Df Model:                           6                                         \n",
      "Covariance Type:            nonrobust                                         \n",
      "===============================================================================\n",
      "                  coef    std err          t      P>|t|      [0.025      0.975]\n",
      "-------------------------------------------------------------------------------\n",
      "const        4177.9706    501.185      8.336      0.000    3191.983    5163.958\n",
      "season        394.5173     75.777      5.206      0.000     245.441     543.593\n",
      "day_of_week    96.2217     37.285      2.581      0.010      22.870     169.574\n",
      "weather      -388.7392    197.011     -1.973      0.049    -776.321      -1.158\n",
      "atemp         103.1298      8.441     12.218      0.000      86.524     119.735\n",
      "humidity      -28.6472      7.758     -3.693      0.000     -43.909     -13.386\n",
      "windspeed   -2748.1704   1053.432     -2.609      0.010   -4820.601    -675.740\n",
      "==============================================================================\n",
      "Omnibus:                       15.445   Durbin-Watson:                   1.948\n",
      "Prob(Omnibus):                  0.000   Jarque-Bera (JB):                6.923\n",
      "Skew:                           0.063   Prob(JB):                       0.0314\n",
      "Kurtosis:                       2.303   Cond. No.                         989.\n",
      "==============================================================================\n",
      "\n",
      "Warnings:\n",
      "[1] Standard Errors assume that the covariance matrix of the errors is correctly specified.\n"
     ]
    }
   ],
   "source": [
    "print(mult_reg.summary())"
   ]
  },
  {
   "cell_type": "code",
   "execution_count": null,
   "metadata": {},
   "outputs": [],
   "source": []
  }
 ],
 "metadata": {
  "anaconda-cloud": {},
  "kernelspec": {
   "display_name": "Python 3",
   "language": "python",
   "name": "python3"
  },
  "language_info": {
   "codemirror_mode": {
    "name": "ipython",
    "version": 3
   },
   "file_extension": ".py",
   "mimetype": "text/x-python",
   "name": "python",
   "nbconvert_exporter": "python",
   "pygments_lexer": "ipython3",
   "version": "3.7.0"
  }
 },
 "nbformat": 4,
 "nbformat_minor": 1
}
